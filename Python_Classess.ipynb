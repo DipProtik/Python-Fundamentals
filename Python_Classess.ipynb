{
 "cells": [
  {
   "cell_type": "markdown",
   "id": "d6aa7dad",
   "metadata": {},
   "source": [
    "# Class, Object and OOP concepts by MH"
   ]
  },
  {
   "cell_type": "markdown",
   "id": "1859cf90",
   "metadata": {},
   "source": [
    "** From ChatGPT (class, objects, constructor) **"
   ]
  },
  {
   "cell_type": "code",
   "execution_count": 2,
   "id": "5f7b9cc4",
   "metadata": {},
   "outputs": [
    {
     "name": "stdout",
     "output_type": "stream",
     "text": [
      "Hello, I am a person Alice and i am 30 years old.\n",
      "Hello, I am a person Bob and i am 25 years old.\n"
     ]
    }
   ],
   "source": [
    "#A class is like a blueprint for creating objects. It defines attributes (variables) and methods (functions) that the objects created from the class will have.\n",
    "\n",
    "class Person:\n",
    "\n",
    "#A constructor is a special method called automatically when an object is created. In Python, the constructor method is always named __init__.\n",
    "\n",
    "    def __init__(self, name, age):  #Constructor (__init__): Initializes object attributes when an object is created.\n",
    "        self.name = name\n",
    "        self.age = age\n",
    "\n",
    "    def speak(self):        #self: Refers to the current object.\n",
    "        print(f\"Hello, I am a person {self.name} and i am {self.age} years old.\")\n",
    "\n",
    "#An object is an instance of a class. Once a class is defined, you can create multiple objects from it.\n",
    "\n",
    "p1 = Person(\"Alice\", 30)\n",
    "p2 = Person(\"Bob\", 25)\n",
    "p1.speak()\n",
    "p2.speak()\n"
   ]
  },
  {
   "cell_type": "markdown",
   "id": "5ffffa29",
   "metadata": {},
   "source": [
    "** class, objects, constructor **"
   ]
  },
  {
   "cell_type": "code",
   "execution_count": null,
   "id": "51d17a1e",
   "metadata": {},
   "outputs": [
    {
     "name": "stdout",
     "output_type": "stream",
     "text": [
      "<class '__main__.Point'>\n",
      "11\n",
      "Point coordinates(11, 20)\n"
     ]
    }
   ],
   "source": [
    "# A class is a blueprint for creating new objects i.e class: Human\n",
    "# An object is an instance of a class i.e object: John, Mary, Jack\n",
    "# Class Naming Convention\n",
    "# Use: CapitalizedWords (aka PascalCase or UpperCamelCase), No underscores between words\n",
    "# Avoid: snake_case (that’s for functions/variables), all lowercase or all uppercase, using prefixes like cls_ or suffixes like _class\n",
    "\n",
    "class Point:\n",
    "    def draw(self):     #All functions in classess should have at least one parameters, which we call SELF by convention. Now every point object that we create will have this draw method\n",
    "        print(\"draw\")\n",
    "\n",
    "n_point = Point()       # Object of Point() class\n",
    "print(type(n_point))       # '__main__' in the output tab is a module\n",
    "isinstance(n_point, Point) # To check whether an object is an instance of a given class \n",
    "\n",
    "# So when we create the n_point object we wanna supply initial values for x, y coordinates. This is done using a CONSTRUCTOR\n",
    " \n",
    "class Point:\n",
    "    def __init__(self, x, y):   #This is a special method called Magic Method. This magic method is called a CONSTRUCTOR and is executed when you create a new Object. So we add any additional parameters along with SELF(it is a reference to the current 'n_point' objcet) for initializing a 'n_point' object.\n",
    "        self.x = x\n",
    "        self.y = y\n",
    "    \n",
    "    def draw(self):    \n",
    "        print(f\"Point coordinates({self.x}, {self.y})\")   # using SELF we can read attributes of the current object or we can also call other methods in this object\n",
    "\n",
    "n_point = Point(11, 20)          #This n_point object has a bunch of methods, when we use the dot(n_point.) operator. Now objects can also have attributes which are basically variables that include data about that object \n",
    "print(n_point.x)\n",
    "n_point.draw()\n",
    "\n",
    "# The methods that we declare within a class should have at least one parameter, which by convention is called SELF and this references the current 'n_point' object that we we are working with.\n",
    "# When calling method of an object, we never have to supply a value for this parameter. Ptyhon Interpreter does that for us. \n"
   ]
  },
  {
   "cell_type": "markdown",
   "id": "7bdc08de",
   "metadata": {},
   "source": [
    "** From ChatGPT (Class vs Instance Attributes, Methods)**"
   ]
  },
  {
   "cell_type": "code",
   "execution_count": 4,
   "id": "f838adbd",
   "metadata": {},
   "outputs": [
    {
     "name": "stdout",
     "output_type": "stream",
     "text": [
      "Animalia\n",
      "Lion\n",
      "Alice is in grade 10.\n",
      "School name: Greenwood High\n"
     ]
    }
   ],
   "source": [
    "class Animal:\n",
    "    kingdom = \"Animalia\"  # class attribute\n",
    "\n",
    "    def __init__(self, name):\n",
    "        self.name = name  # instance attribute\n",
    "\n",
    "a1 = Animal(\"Lion\")\n",
    "a2 = Animal(\"Elephant\")\n",
    "\n",
    "print(a1.kingdom)  # Animalia (from class)\n",
    "print(a1.name)     # Lion (unique to a1)\n",
    "\n",
    "#If you change Animal.kingdom, it changes for all, unless an object overrides it locally.\n",
    "\n",
    "#Feature\t          Class Method\t           Instance Method\n",
    "# Defined with\t   @classmethod decorator    No decorator needed\n",
    "# First parameter\tcls (class itself)\t     self (the object instance)\n",
    "# Can access\t    Class attributes only\tBoth class & instance attributes\n",
    "# Called using\t      Class or object\t       Typically object only\n",
    "\n",
    "class Student:\n",
    "    school = \"Greenwood High\"  # class attribute\n",
    "\n",
    "    def __init__(self, name, grade):\n",
    "        self.name = name        # instance attribute\n",
    "        self.grade = grade\n",
    "\n",
    "    def get_info(self):        # instance method\n",
    "        print(f\"{self.name} is in grade {self.grade}.\")\n",
    "\n",
    "    @classmethod\n",
    "    def get_school(cls):       # class method\n",
    "        print(f\"School name: {cls.school}\")\n",
    "\n",
    "s1 = Student(\"Alice\", 10)\n",
    "s1.get_info()       # uses instance attributes\n",
    "Student.get_school()  # uses class attribute\n",
    "\n",
    "\n",
    "class Laptop:\n",
    "    brand_name = \"TechZone\"\n",
    "\n",
    "    def __init__(self, model, price):\n",
    "        self.model = model\n",
    "        self.price = price\n",
    "\n",
    "    def show_detail(self):\n",
    "        print(f\"Model: {self.model}, Price: ${self.price}\")\n",
    "\n",
    "    @classmethod\n",
    "    def change_brand(cls, new_brand):\n",
    "    # You need to update the class attribute\n",
    "        cls.brand_name = new_brand\n",
    "        print(f\"Model: {cls.brand_name}\")\n",
    "\n",
    "l1 = Laptop(\"z123\", 800)\n",
    "l1.show_detail()\n",
    "Laptop.change_brand(\"NextGenTech\")\n",
    "\n"
   ]
  },
  {
   "cell_type": "markdown",
   "id": "1ed49732",
   "metadata": {},
   "source": [
    "**class vs instance attributes**"
   ]
  },
  {
   "cell_type": "code",
   "execution_count": null,
   "id": "90dde84e",
   "metadata": {},
   "outputs": [
    {
     "name": "stdout",
     "output_type": "stream",
     "text": [
      "Point coordinates(31, 89)\n",
      "11\n",
      "Point coordinates(11, 20)\n",
      "red\n",
      "red\n",
      "Green\n"
     ]
    }
   ],
   "source": [
    "# x, y, z are instance attributes in the following code. These are attributes that belong to n_point instances or n_point objects\n",
    "# Class level attributes are shared across all instances of a class. If we change their value the change is visible to all objects of that type\n",
    "class Point:\n",
    "# we can also define class attributes and these are attributes that we define at class level and they are the same across all instances of a class  \n",
    "    default_color = \"red\"   #class level attribute and we can read this via a class reference\n",
    "\n",
    "#we defined two attributes for the n_point object in the constructor of the point class. So now whenever we create a new object, this object will have this attributes by default.\n",
    "    def __init__(self, x, y):   \n",
    "       self.x = x     \n",
    "       self.y = y\n",
    "    \n",
    "    def draw(self):    \n",
    "        print(f\"Point coordinates({self.x}, {self.y})\")   \n",
    "n_point = Point(11, 20)\n",
    "\n",
    "#We can also define an attribute after we create an object. Objects in python are dynamic. We don't have to define all the attribute inside the constructor\n",
    "n_point.z = 23\n",
    "\n",
    "#n_point and another_n_point objects are independent of each other\n",
    "another_n_point = Point(31, 89)\n",
    "another_n_point.draw()\n",
    "print(n_point.x)\n",
    "n_point.draw()\n",
    "\n",
    "print(n_point.default_color)\n",
    "print(Point.default_color)\n",
    "\n",
    "Point.default_color = \"Green\"\n",
    "print((another_n_point.default_color))\n",
    "\n",
    "\n"
   ]
  },
  {
   "cell_type": "markdown",
   "id": "49f8278d",
   "metadata": {},
   "source": [
    "**class vs instance methods**"
   ]
  },
  {
   "cell_type": "code",
   "execution_count": 5,
   "id": "ee79b05d",
   "metadata": {},
   "outputs": [
    {
     "name": "stdout",
     "output_type": "stream",
     "text": [
      "Point coordinates: (0, 0)\n"
     ]
    }
   ],
   "source": [
    "#instance method: we can call them with an instance of the Point class using an object. Use these instance methods whenever we need an object reference \n",
    "#There are times when we don't really need an existing object and thats when we use a class method\n",
    "\n",
    "class Point:\n",
    "    def __init__(self, x, y):    #instance method   \n",
    "        self.x = x\n",
    "        self.y = y\n",
    "    \n",
    "#Purpose of the following method with respect to this portion of the code = We can create a point object with inital values.  \n",
    "\n",
    "    @classmethod            #Decorator=Its a way to extend the behaviour of a method or a function\n",
    "    def zero(cls):          #class method=when we define a class method we need to define it's first parameter CLS. It's a reference to the class itself\n",
    "        return cls(0, 0)   #this line is equivalent to Point(0, 0). The difference is that if we use CLS, at runtime when we call the zero() python interpreter will automatically pass a reference to the Point class with a zero().\n",
    "\n",
    "\n",
    "    def draw(self):               #instance method\n",
    "        print(f\"Point coordinates: ({self.x}, {self.y})\")\n",
    "\n",
    "n_point = Point.zero()\n",
    "n_point.draw()        #When drawing a point we really need to work with the specific point object. That is why this draw method is defined as an instance method "
   ]
  },
  {
   "cell_type": "markdown",
   "id": "dde05956",
   "metadata": {},
   "source": [
    "**Magic methods**"
   ]
  },
  {
   "cell_type": "code",
   "execution_count": 1,
   "id": "0ea0795d",
   "metadata": {},
   "outputs": [
    {
     "name": "stdout",
     "output_type": "stream",
     "text": [
      "Point coordinates: (11, 22)\n"
     ]
    }
   ],
   "source": [
    "#magic methods have two underscores at the beginning and end of their name and they are automatically called by the Python interpreter depending on how we uses our objects and classes \n",
    "class Point:\n",
    "    def __init__(self, x, y):\n",
    "        self.x = x\n",
    "        self.y = y\n",
    "    \n",
    "    def __str__(self):\n",
    "        return f\"Point coordinates: ({self.x}, {self.y})\"\n",
    "\n",
    "n3_point = Point(11, 22)\n",
    "\n",
    "print(str(n3_point))"
   ]
  },
  {
   "cell_type": "markdown",
   "id": "e1921963",
   "metadata": {},
   "source": [
    "**Magic Methods example from ChatGPT**"
   ]
  },
  {
   "cell_type": "markdown",
   "id": "8762dc7b",
   "metadata": {},
   "source": [
    "<!-- In Python, magic methods (also called dunder methods, short for “double underscore”) are special methods that start and end with double underscores like __init__, __str__, __len__, etc. These methods allow you to define how your objects behave with built-in functions and operators. -->\n",
    "\n",
    "<!-- __init__: Constructor, called when a new object is created.\n",
    "\n",
    "__str__: Called by str() or print() to return a human-readable string.\n",
    "\n",
    "__len__: Called by len() to return the number of pages.\n",
    "\n",
    "__eq__: Called by == to compare two objects. -->\n"
   ]
  },
  {
   "cell_type": "code",
   "execution_count": null,
   "id": "df73380f",
   "metadata": {},
   "outputs": [
    {
     "name": "stdout",
     "output_type": "stream",
     "text": [
      "'1984' by George Orwell\n",
      "328\n",
      "True\n"
     ]
    }
   ],
   "source": [
    "# In Python, magic methods (also called dunder methods, short for “double underscore”) are special methods \n",
    "# that start and end with double underscores like __init__, __str__, __len__, etc. \n",
    "# These methods allow you to define how your objects behave with built-in functions and operators.\n",
    "\n",
    "#Example 01:\n",
    "\n",
    "class Book:\n",
    "    def __init__(self, title, author, pages):       #parameter \n",
    "        self.title = title\n",
    "        self.author = author\n",
    "        self.pages = pages\n",
    "\n",
    "    def __str__(self):\n",
    "        return f\"'{self.title}' by {self.author}\"\n",
    "\n",
    "    def __len__(self):\n",
    "        return self.pages\n",
    "\n",
    "    def __eq__(self, other):\n",
    "        return self.pages == other.pages\n",
    "\n",
    "# Creating book objects\n",
    "book1 = Book(\"1984\", \"George Orwell\", 328)              #argument\n",
    "book2 = Book(\"Animal Farm\", \"George Orwell\", 328)\n",
    "\n",
    "# # Using magic methods\n",
    "# __init__: Constructor, called when a new object is created.\n",
    "# __str__: Called by str() or print() to return a human-readable string.\n",
    "# __len__: Called by len() to return the number of pages.\n",
    "# __eq__: Called by == to compare two objects.\n",
    "\n",
    "print(book1)           # Calls __str__: '1984' by George Orwell\n",
    "print(len(book1))      # Calls __len__: 328\n",
    "print(book1 == book2)  # Calls __eq__: True\n",
    "\n",
    "\n",
    "\n",
    "# When you create your own class, you can make your objects respond to Python operators or built-in functions just like built-in types (like int, list, etc.).\n",
    "# You do this by overriding (i.e., providing your own version of) special \"magic methods\" like:\n",
    "# __add__ → defines behavior for +\n",
    "# __lt__ → defines behavior for <\n",
    "# __getitem__ → defines behavior for indexing []\n",
    "\n",
    "#Example 02: __add__ – Making + work with your objects\n",
    "class Point:\n",
    "    def __init__(self, x, y):\n",
    "        self.x = x\n",
    "        self.y = y\n",
    "\n",
    "    def __add__(self, other):\n",
    "        return Point(self.x + other.x, self.y + other.y)\n",
    "\n",
    "    def __str__(self):\n",
    "        return f\"Point({self.x}, {self.y})\"\n",
    "\n",
    "p1 = Point(1, 2)\n",
    "p2 = Point(3, 4)\n",
    "\n",
    "p3 = p1 + p2  # This calls p1.__add__(p2)\n",
    "print(p3)     # Output: Point(4, 6)\n",
    "\n",
    "# Example 03:__lt__ – Making < work\n",
    "class Box:\n",
    "    def __init__(self, volume):\n",
    "        self.volume = volume\n",
    "\n",
    "    def __lt__(self, other):\n",
    "        return self.volume < other.volume\n",
    "\n",
    "box1 = Box(10)\n",
    "box2 = Box(20)\n",
    "\n",
    "print(box1 < box2)  # True, because 10 < 20\n",
    "\n",
    "# Example 4: __getitem__ – Making objects indexable like lists\n",
    "class MyList:\n",
    "    def __init__(self, data):\n",
    "        self.data = data\n",
    "\n",
    "    def __getitem__(self, index):\n",
    "        return self.data[index]\n",
    "\n",
    "ml = MyList([10, 20, 30])\n",
    "print(ml[1])  # Output: 20\n",
    "\n",
    "\n",
    "# Magic methods let you \"teach\" your object how to behave like Python built-in types.\n",
    "# You “override” them by defining them in your class.\n",
    "# Once overridden, your object can respond to operators and functions like +, <, [], len(), etc.\n"
   ]
  }
 ],
 "metadata": {
  "kernelspec": {
   "display_name": "Python 3",
   "language": "python",
   "name": "python3"
  },
  "language_info": {
   "codemirror_mode": {
    "name": "ipython",
    "version": 3
   },
   "file_extension": ".py",
   "mimetype": "text/x-python",
   "name": "python",
   "nbconvert_exporter": "python",
   "pygments_lexer": "ipython3",
   "version": "3.13.2"
  }
 },
 "nbformat": 4,
 "nbformat_minor": 5
}
