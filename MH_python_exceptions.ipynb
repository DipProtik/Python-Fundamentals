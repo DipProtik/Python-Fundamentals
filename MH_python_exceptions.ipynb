{
 "cells": [
  {
   "cell_type": "markdown",
   "metadata": {},
   "source": [
    "** Exception Folder Classes from Mosh Hamedani ** "
   ]
  },
  {
   "cell_type": "code",
   "execution_count": null,
   "metadata": {},
   "outputs": [],
   "source": [
    "# When python sees a try block it will execute every statement in this block. If any of these statement \n",
    "# throws an exception the code in the except clause will be executed. If you don't have any exceptions \n",
    "# the code will in the except portion will not be executed.\n",
    "\n",
    "try:\n",
    "    age = int(input('Age: '))\n",
    "except ValueError as ex:      # we can optionally define a variable that will include the detail of the exception, mostly the error message and sometimes additional arguments\n",
    "    print(\"Invalid input\")\n",
    "    print(ex)\n",
    "    print(type(ex))\n",
    "else:\n",
    "    print('NO exception found\\n' 'Age: ', age)  #What we put inside this else block will be exeuted if no exception were thrown by the code in the try block\n",
    "\n",
    "\n",
    "# When Python executes the code in the try block, if any of the statements throws an exception that \n",
    "# matches one of the except clauses that except clause is executed and the other except clauses are ignored\n",
    "\n",
    "try:\n",
    "    age = int(input('Age: '))\n",
    "    xfactor = 100/age\n",
    "except (ValueError, ZeroDivisionError):\n",
    "    print(\"Not a valid value\")\n",
    "else:\n",
    "    print('NO exception found\\n' 'Age: ', age)\n"
   ]
  },
  {
   "cell_type": "markdown",
   "metadata": {},
   "source": [
    "##DO not try to run the following code, it's just a sample code"
   ]
  },
  {
   "cell_type": "code",
   "execution_count": null,
   "metadata": {},
   "outputs": [],
   "source": [
    "# USING THE FINALLY CLAUSE TO RELEASE EXTERNAL RESOURCES\n",
    "# After opening a file we should always close it otherwise another process maynot be able to open the file\n",
    "# Now in this kind of scenarios, if we move the 'file.close()' inside the 'try block'/ 'except block' cause\n",
    "# if any issue doesn't occur the program for 'except block' won't be executed. \n",
    "# So it's best to put the code in the 'finally clause'. This is the best approach to close files with the \n",
    "# database/ network connections \n",
    "try:\n",
    "    file = open('data_base.txt')\n",
    "    age = int(input('Age: '))\n",
    "    xfactor = 100/age\n",
    "except (ValueError, ZeroDivisionError):\n",
    "    print(\"Not a valid value\")\n",
    "else:\n",
    "    print('NO exception found\\n' 'Age: ', age)\n",
    "finally:\n",
    "    file.close()"
   ]
  },
  {
   "cell_type": "code",
   "execution_count": null,
   "metadata": {},
   "outputs": [],
   "source": [
    "# We can achieve the task of FINALLY clause by using the WITH clause. Although it doesn't work in every scenarios,\n",
    "# only works with certain kinds of objects.\n",
    "# Whenever we open a file by the WITH statement, python will automatically call file.close() wheather we have a\n",
    "# FINALLY clause or not. In other words the WITH statement is used to automatically release the external resources.\n",
    "try:\n",
    "    with open('data_base.txt') as file:   # so here is the FILE object that the OPEN function returns \n",
    "        print(\"file opened\")                           # We can read something from the file or write to it\n",
    "    age = int(input('Age: '))\n",
    "    xfactor = 100/age\n",
    "except (ValueError, ZeroDivisionError):\n",
    "    print(\"Not a valid value\")\n",
    "else:\n",
    "    print('NO exception found\\n' 'Age: ', age)\n"
   ]
  },
  {
   "cell_type": "markdown",
   "metadata": {},
   "source": [
    "##Just to get accustomed to this type of code, in case you see this type of code in other people's program"
   ]
  },
  {
   "cell_type": "code",
   "execution_count": null,
   "metadata": {},
   "outputs": [],
   "source": [
    "# You can also raise or throw exception in your own code(Customized Exception)\n",
    "# It is not advisable to create such exception. You might see in other people's code. \n",
    "def calculate_xfactor(age):\n",
    "    if age <= 0:\n",
    "        raise ValueError(\"age can't be 0 or less\")\n",
    "    return 100 / age\n",
    "\n",
    "try:\n",
    "    calculate_xfactor(-1)\n",
    "except ValueError as error:\n",
    "    print('error')"
   ]
  },
  {
   "cell_type": "code",
   "execution_count": null,
   "metadata": {},
   "outputs": [],
   "source": [
    "from timeit import timeit   #with this TIMEIT function We can calculate the execution time of python code\n",
    "\n",
    "# as the python code is multiple line so we are decalring a variable which is a string data type\n",
    "\n",
    "code1 = \"\"\"                \n",
    "def calculate_xfactor(age):\n",
    "    if age <= 0:\n",
    "        raise ValueError(\"age can't be 0 or less\")\n",
    "    return 100 / age\n",
    "\n",
    "try:\n",
    "    calculate_xfactor(-1)\n",
    "except ValueError as error:\n",
    "    print('error')\n",
    "\"\"\"\n",
    "\n",
    "# The PASS statement here doesn't do anything as we cannot have an empty EXCEPT block\n",
    "code2 = \"\"\"                \n",
    "def calculate_xfactor(age):\n",
    "    if age <= 0:\n",
    "        raise ValueError(\"age can't be 0 or less\")\n",
    "    return 100 / age\n",
    "\n",
    "try:\n",
    "    calculate_xfactor(-1)\n",
    "except ValueError as error:\n",
    "    pass    \n",
    "\"\"\"\n",
    "\n",
    "# A different approach\n",
    "# NONE = is an object that represents the absence of a value\n",
    "# Instead of handling an exception we can compare this xfactor with NONE. So immediately you can \n",
    "# see this code is simpler than the previous implementation and this will be executed 4 times faster than the previous ones\n",
    "\n",
    "code3 = \"\"\"                \n",
    "def calculate_xfactor(age):\n",
    "    if age <= 0:\n",
    "        return None\n",
    "    return 100 / age\n",
    "  \n",
    "xfactor = calculate_xfactor(-1)\n",
    "if xfactor == None:\n",
    "    pass\n",
    "\"\"\"\n",
    "\n",
    "print(\"First code=\", timeit(code1, number = 10000))\n",
    "print(\"Second code=\", timeit(code2, number = 10000))\n",
    "print(\"Third code=\", timeit(code3, number = 10000))\n",
    "\n",
    "# So we see the differences after we run the code for 10000 time. But for one time we won't see any differences\n",
    "# If you're building a simple application for a few user's, raising an exception in your functions isn't \n",
    "# gonna have a bad impact on the performance of you'r application \n",
    "# If you are building an application where performance and scanlability is important then it's better to\n",
    "# raise an exceptions when you really have to  \n",
    "# As a rule of thumb when you are gonna raise an exception think twice. See if you can handle the situation\n",
    "# with a simple IF statement. The code will end up being cleaner. So raise exceptions if you really have to\n",
    "\n",
    "\n",
    "\n"
   ]
  }
 ],
 "metadata": {
  "kernelspec": {
   "display_name": "Python 3",
   "language": "python",
   "name": "python3"
  },
  "language_info": {
   "codemirror_mode": {
    "name": "ipython",
    "version": 3
   },
   "file_extension": ".py",
   "mimetype": "text/x-python",
   "name": "python",
   "nbconvert_exporter": "python",
   "pygments_lexer": "ipython3",
   "version": "3.13.2"
  }
 },
 "nbformat": 4,
 "nbformat_minor": 2
}
