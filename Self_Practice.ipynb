{
 "cells": [
  {
   "cell_type": "code",
   "execution_count": 3,
   "id": "e27d0c09",
   "metadata": {},
   "outputs": [
    {
     "name": "stdout",
     "output_type": "stream",
     "text": [
      "'1984' by George Orwell\n",
      "328\n",
      "True\n"
     ]
    }
   ],
   "source": [
    "class Book:\n",
    "    def __init__(self, title, author, pages):       #parameter \n",
    "        self.title = title\n",
    "        self.author = author\n",
    "        self.pages = pages\n",
    "\n",
    "    def __str__(self):\n",
    "        return f\"'{self.title}' by {self.author}\"\n",
    "\n",
    "    def __len__(self):\n",
    "        return self.pages\n",
    "\n",
    "    def __eq__(self, other):\n",
    "        return self.pages == other.pages\n",
    "\n",
    "# Creating book objects\n",
    "book1 = Book(\"1984\", \"George Orwell\", 328)              #argument\n",
    "book2 = Book(\" Farm\", \"George Orwell\", 328)\n",
    "\n",
    "# Using magic methods\n",
    "print(book1)           # Calls __str__: '1984' by George Orwell\n",
    "print(len(book2))      # Calls __len__: 328\n",
    "print(book1 == book2)"
   ]
  },
  {
   "cell_type": "code",
   "execution_count": 1,
   "id": "612d6652",
   "metadata": {},
   "outputs": [
    {
     "name": "stdout",
     "output_type": "stream",
     "text": [
      "Car: Toyota Corolla (2022)\n"
     ]
    }
   ],
   "source": [
    "class Car:\n",
    "    def __init__(self, brand, model, year):\n",
    "        self.brand = brand\n",
    "        self.model = model\n",
    "        self.year = year\n",
    "\n",
    "    def display_info(self):\n",
    "        print(f\"Car: {self.brand} {self.model} ({self.year})\")\n",
    "        \n",
    "\n",
    "c1 = Car(\"Toyota\", \"Corolla\", 2022)\n",
    "c1.display_info()"
   ]
  },
  {
   "cell_type": "code",
   "execution_count": 14,
   "id": "d03385f9",
   "metadata": {},
   "outputs": [
    {
     "name": "stdout",
     "output_type": "stream",
     "text": [
      "Model: z123, Price: $800\n",
      "Model: NextGenTech\n"
     ]
    }
   ],
   "source": [
    "class Laptop:\n",
    "    brand_name = \"TechZone\"\n",
    "\n",
    "    def __init__(self, model, price):\n",
    "        self.model = model\n",
    "        self.price = price\n",
    "\n",
    "    def show_detail(self):\n",
    "        print(f\"Model: {self.model}, Price: ${self.price}\")\n",
    "\n",
    "    @classmethod\n",
    "    def change_brand(cls, new_brand):\n",
    "    # You need to update the class attribute\n",
    "        cls.brand_name = new_brand\n",
    "        print(f\"Model: {cls.brand_name}\")\n",
    "\n",
    "l1 = Laptop(\"z123\", 800)\n",
    "l1.show_detail()\n",
    "Laptop.change_brand(\"NextGenTech\")\n"
   ]
  },
  {
   "cell_type": "code",
   "execution_count": null,
   "id": "79fe1329",
   "metadata": {},
   "outputs": [
    {
     "name": "stdout",
     "output_type": "stream",
     "text": [
      "add function\n",
      "str function\n",
      "Playlist: Chill Vibes (3 songs)\n",
      "2\n",
      "str function\n",
      "Playlist: Chill Vibes + Workout (5 songs)\n",
      "['Sunset', 'Rain', 'Breeze', 'Pump It', 'Run Fast']\n"
     ]
    }
   ],
   "source": [
    "#Challenge: Create a Playlist class\n",
    "# Requirements:\n",
    "# The class should store:\n",
    "# name (name of the playlist)\n",
    "# songs (a list of song names)\n",
    "# Implement the following magic methods:\n",
    "# __str__ → Print the playlist name and number of songs.\n",
    "# java\n",
    "# Copy\n",
    "# Edit\n",
    "# Playlist: Chill Vibes (3 songs)\n",
    "# __len__ → Return the number of songs with len(playlist)\n",
    "# __add__ → Combine two playlists into a new one with merged songs.\n",
    "\n",
    "class Playlist:\n",
    "    def __init__(self, name, num_of_songs):\n",
    "        self.name = name\n",
    "        self.num_of_songs = num_of_songs\n",
    "\n",
    "    def __str__(self):\n",
    "        print('str function')\n",
    "        return f\"Playlist: {self.name} ({len(self.num_of_songs)} songs)\"\n",
    "    \n",
    "    def __len__(self):\n",
    "        return len(self.num_of_songs)\n",
    "    \n",
    "    def __add__(self, other):\n",
    "        print('add function')\n",
    "        new_name = f\"{self.name} + {other.name}\"\n",
    "        new_songs = self.num_of_songs + other.num_of_songs\n",
    "        return Playlist(new_name, new_songs)\n",
    "\n",
    "p1 = Playlist(\"Chill Vibes\", [\"Sunset\", \"Rain\", \"Breeze\"])\n",
    "p2 = Playlist(\"Workout\", [\"Pump It\", \"Run Fast\"])\n",
    "\n",
    "p3 = p1 + p2\n",
    "\n",
    "print(p1)\n",
    "print(len(p2))\n",
    "print(p3)\n",
    "print(p3.num_of_songs)\n"
   ]
  }
 ],
 "metadata": {
  "kernelspec": {
   "display_name": "Python 3",
   "language": "python",
   "name": "python3"
  },
  "language_info": {
   "codemirror_mode": {
    "name": "ipython",
    "version": 3
   },
   "file_extension": ".py",
   "mimetype": "text/x-python",
   "name": "python",
   "nbconvert_exporter": "python",
   "pygments_lexer": "ipython3",
   "version": "3.13.2"
  }
 },
 "nbformat": 4,
 "nbformat_minor": 5
}
